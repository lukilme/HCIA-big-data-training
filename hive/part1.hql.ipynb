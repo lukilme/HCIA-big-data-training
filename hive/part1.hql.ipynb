{
 "cells": [
  {
   "cell_type": "code",
   "execution_count": 11,
   "metadata": {},
   "outputs": [
    {
     "data": {
      "text/plain": [
       "[('course',), ('default',)]"
      ]
     },
     "execution_count": 11,
     "metadata": {},
     "output_type": "execute_result"
    }
   ],
   "source": [
    "import pandas as pd\n",
    "from pyhive import hive\n",
    "\n",
    "def execute_query(cursor, query, fetch=False):\n",
    "    try:\n",
    "        cursor.execute(query)\n",
    "        if fetch:\n",
    "            return cursor.fetchall()\n",
    "    except Exception as e:\n",
    "        print(e)\n",
    "        return e\n",
    "\n",
    "conn = hive.Connection(host=\"localhost\", port=10000, username=\"hive\")\n",
    "cursor = conn.cursor()\n",
    "\n",
    "execute_query(cursor, '''\n",
    "SHOW DATABASES\n",
    "''', True)"
   ]
  },
  {
   "cell_type": "code",
   "execution_count": 12,
   "metadata": {},
   "outputs": [],
   "source": [
    "execute_query(cursor, '''\n",
    "CREATE DATABASE IF NOT EXISTS course\n",
    "''')\n",
    "\n",
    "execute_query(cursor, '''\n",
    "USE course\n",
    "''')\n",
    "\n",
    "execute_query(cursor, '''\n",
    "CREATE TABLE IF NOT EXISTS my_table (\n",
    "    col1 STRING,\n",
    "    col2 ARRAY<STRING>,\n",
    "    col3 STRING,\n",
    "    col4 INT\n",
    ")\n",
    "ROW FORMAT DELIMITED\n",
    "FIELDS TERMINATED BY '.'\n",
    "COLLECTION ITEMS TERMINATED BY ':'\n",
    "LINES TERMINATED BY '\\\\n'\n",
    "STORED AS TEXTFILE\n",
    "''')"
   ]
  },
  {
   "cell_type": "markdown",
   "metadata": {},
   "source": [
    "### Activity 1\n",
    "1. Study the structure of data then use create statement to create a table with necessary number of columns.\n",
    "2. Load the data into table.\n",
    "3. View data in tables after loading."
   ]
  },
  {
   "cell_type": "code",
   "execution_count": 13,
   "metadata": {},
   "outputs": [],
   "source": [
    "execute_query(cursor, '''\n",
    "CREATE TABLE IF NOT EXISTS orders (\n",
    "    cust_id VARCHAR(20),\n",
    "    cust_name VARCHAR(50),\n",
    "    odr_date STRING,\n",
    "    ship_date STRING,\n",
    "    courier VARCHAR(20),\n",
    "    recvd_date STRING,\n",
    "    returned VARCHAR(5),\n",
    "    returned_date STRING,\n",
    "    return_reason VARCHAR(50)\n",
    ") \n",
    "row format delimited fields terminated by \",\"\n",
    "lines terminated by \"\\n\" \n",
    "stored as textfile\n",
    "''')"
   ]
  },
  {
   "cell_type": "code",
   "execution_count": 14,
   "metadata": {},
   "outputs": [
    {
     "data": {
      "text/html": [
       "<div>\n",
       "<style scoped>\n",
       "    .dataframe tbody tr th:only-of-type {\n",
       "        vertical-align: middle;\n",
       "    }\n",
       "\n",
       "    .dataframe tbody tr th {\n",
       "        vertical-align: top;\n",
       "    }\n",
       "\n",
       "    .dataframe thead th {\n",
       "        text-align: right;\n",
       "    }\n",
       "</style>\n",
       "<table border=\"1\" class=\"dataframe\">\n",
       "  <thead>\n",
       "    <tr style=\"text-align: right;\">\n",
       "      <th></th>\n",
       "    </tr>\n",
       "  </thead>\n",
       "  <tbody>\n",
       "  </tbody>\n",
       "</table>\n",
       "</div>"
      ],
      "text/plain": [
       "Empty DataFrame\n",
       "Columns: []\n",
       "Index: []"
      ]
     },
     "execution_count": 14,
     "metadata": {},
     "output_type": "execute_result"
    }
   ],
   "source": [
    "pd.DataFrame(execute_query(cursor, '''\n",
    "SELECT * FROM orders\n",
    "''', True))"
   ]
  },
  {
   "cell_type": "code",
   "execution_count": 15,
   "metadata": {},
   "outputs": [],
   "source": [
    "execute_query(cursor, '''\n",
    "LOAD DATA LOCAL INPATH '/opt/hive/assignment_create_table_2018.txt' INTO TABLE orders\n",
    "''')"
   ]
  },
  {
   "cell_type": "code",
   "execution_count": 18,
   "metadata": {},
   "outputs": [
    {
     "data": {
      "text/plain": [
       "[('#cust_id-  #cust_name-#Courer',),\n",
       " ('GGYZ333519YS-Allison-Fedx',),\n",
       " ('GGYZ333519YS-Allison-Delhivery',),\n",
       " ('GGYZ333519YS-Allison-Fedx',),\n",
       " ('GGYZ333519YS-Allison-Ekart',)]"
      ]
     },
     "execution_count": 18,
     "metadata": {},
     "output_type": "execute_result"
    }
   ],
   "source": [
    "execute_query(cursor, '''\n",
    "select concat(cust_id, '-', cust_name, '-', courier) from orders limit 5\n",
    "''', True)"
   ]
  }
 ],
 "metadata": {
  "kernelspec": {
   "display_name": "Python 3",
   "language": "python",
   "name": "python3"
  },
  "language_info": {
   "codemirror_mode": {
    "name": "ipython",
    "version": 3
   },
   "file_extension": ".py",
   "mimetype": "text/x-python",
   "name": "python",
   "nbconvert_exporter": "python",
   "pygments_lexer": "ipython3",
   "version": "3.12.7"
  }
 },
 "nbformat": 4,
 "nbformat_minor": 2
}
