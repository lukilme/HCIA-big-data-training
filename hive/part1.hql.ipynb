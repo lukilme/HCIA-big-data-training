{
 "cells": [
  {
   "cell_type": "code",
   "execution_count": 1,
   "metadata": {},
   "outputs": [
    {
     "data": {
      "text/plain": [
       "[('default',)]"
      ]
     },
     "execution_count": 1,
     "metadata": {},
     "output_type": "execute_result"
    }
   ],
   "source": [
    "import pandas as pd\n",
    "from pyhive import hive\n",
    "\n",
    "def execute_query(cursor, query, fetch=False):\n",
    "    try:\n",
    "        cursor.execute(query)\n",
    "        if fetch:\n",
    "            return cursor.fetchall()\n",
    "    except Exception as e:\n",
    "        print(e)\n",
    "        return e\n",
    "\n",
    "conn = hive.Connection(host=\"localhost\", port=10000, username=\"hive\")\n",
    "cursor = conn.cursor()\n",
    "\n",
    "execute_query(cursor, '''\n",
    "SHOW DATABASES\n",
    "''', True)"
   ]
  },
  {
   "cell_type": "code",
   "execution_count": null,
   "metadata": {},
   "outputs": [],
   "source": []
  }
 ],
 "metadata": {
  "kernelspec": {
   "display_name": "Python 3",
   "language": "python",
   "name": "python3"
  },
  "language_info": {
   "codemirror_mode": {
    "name": "ipython",
    "version": 3
   },
   "file_extension": ".py",
   "mimetype": "text/x-python",
   "name": "python",
   "nbconvert_exporter": "python",
   "pygments_lexer": "ipython3",
   "version": "3.12.7"
  }
 },
 "nbformat": 4,
 "nbformat_minor": 2
}
